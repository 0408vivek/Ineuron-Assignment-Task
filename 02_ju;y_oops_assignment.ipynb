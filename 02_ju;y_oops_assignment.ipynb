{
 "cells": [
  {
   "cell_type": "markdown",
   "id": "86ca3505",
   "metadata": {},
   "source": [
    "# 1. Explain what inheritance is in object-oriented programming and why it is used."
   ]
  },
  {
   "cell_type": "markdown",
   "id": "732bc8f5",
   "metadata": {},
   "source": [
    "Inheritance is a fundamental concept in object-oriented programming (OOP) that allows a class to inherit attributes and behaviors (methods) from another class. Inheritance forms a hierarchy of classes, where a new class can be created based on an existing class, inheriting its properties and behaviors while also having the ability to extend or override them. The existing class is referred to as the \"base class,\" \"parent class,\" or \"superclass,\" while the new class is the \"derived class,\" \"child class,\" or \"subclass.\""
   ]
  },
  {
   "cell_type": "markdown",
   "id": "dae43d5e",
   "metadata": {},
   "source": [
    "# 2. Discuss the concept of single inheritance and multiple inheritance, highlighting their differences and advantages."
   ]
  },
  {
   "cell_type": "markdown",
   "id": "1982333c",
   "metadata": {},
   "source": [
    "Single Inheritance and Multiple Inheritance are two approaches to class inheritance in object-oriented programming. They differ in how classes inherit attributes and behaviors from their parent classes and bring their own advantages and considerations.\n",
    "advantage - 1. Single inheritance promotes a clear and straightforward hierarchy, which can make the code easier to understand and maintain.\n",
    "            2. With only one parent class, there's a lower likelihood of conflicts and ambiguities when methods or attributes are inherited. This simplifies the resolution of naming clashes.\n",
    "disadvantage - With single inheritance, a class cannot inherit attributes and methods from multiple sources simultaneously. This can lead to code duplication when similar functionality needs to be implemented across different parts of the hierarchy.\n",
    "\n"
   ]
  },
  {
   "cell_type": "markdown",
   "id": "e44a4661",
   "metadata": {},
   "source": [
    "In multiple inheritance, a class can inherit attributes and methods from more than one parent class. This allows for more complex and flexible class hierarchies."
   ]
  },
  {
   "cell_type": "markdown",
   "id": "60e8903a",
   "metadata": {},
   "source": [
    "# 3. Explain the terms \"base class\" and \"derived class\" in the context of inheritance."
   ]
  },
  {
   "cell_type": "markdown",
   "id": "78659951",
   "metadata": {},
   "source": [
    "In the context of inheritance in object-oriented programming (OOP), the terms \"base class\" and \"derived class\" refer to the relationship between classes within a hierarchy.\n",
    "\n",
    "Base class\n",
    "\n",
    "A base class, also known as a parent class or superclass, is the class from which other classes inherit attributes and methods. It serves as a template for creating derived classes. The base class contains common attributes and behaviors that are shared by its derived classes. Base classes typically represent more general concepts or features that are extended or specialized by the derived classes.\n",
    "\n",
    "Derived class\n",
    "\n",
    "A derived class, also known as a child class or subclass, is a class that inherits attributes and methods from a base class. The derived class can extend or modify the attributes and methods inherited from the base class while also adding its own unique attributes and behaviors. Inheritance allows the derived class to reuse and build upon the existing functionality of the base class.\n",
    "\n",
    "\n",
    "\n",
    "\n",
    "\n"
   ]
  },
  {
   "cell_type": "markdown",
   "id": "c9b05d8f",
   "metadata": {},
   "source": [
    "# 4. What is the significance of the \"protected\" access modifier in inheritance? How does it differ from \"private\" and \"public\" modifiers?"
   ]
  },
  {
   "cell_type": "markdown",
   "id": "31d164e7",
   "metadata": {},
   "source": [
    "In object-oriented programming, access modifiers (also known as access specifiers) determine the level of visibility and accessibility of class members (attributes and methods) within a class hierarchy. The three common access modifiers are \"private,\" \"protected,\" and \"public.\" These modifiers control how class members can be accessed and manipulated by other classes within the same hierarchy or outside it. The significance of the \"protected\" access modifier in inheritance lies in its middle ground between \"private\" and \"public\" modifiers."
   ]
  },
  {
   "cell_type": "markdown",
   "id": "52a169b8",
   "metadata": {},
   "source": [
    "# 5. What is the purpose of the \"super\" keyword in inheritance? Provide an example."
   ]
  },
  {
   "cell_type": "markdown",
   "id": "ab30c258",
   "metadata": {},
   "source": [
    "The super keyword in object-oriented programming is used to refer to the parent class, specifically to access its attributes and methods. It's particularly useful in situations where a derived class (subclass) overrides a method or attribute of its parent class (superclass) and still wants to use the functionality provided by the parent class. The super keyword helps in invoking the parent class's implementation of the overridden method or accessing its attributes."
   ]
  },
  {
   "cell_type": "code",
   "execution_count": 1,
   "id": "8a9f43c6",
   "metadata": {},
   "outputs": [
    {
     "name": "stdout",
     "output_type": "stream",
     "text": [
      "Generic makes a generic animal sound.\n",
      "----\n",
      "Buddy makes a generic animal sound.\n",
      "Buddy barks.\n"
     ]
    }
   ],
   "source": [
    "class Animal:\n",
    "    def __init__(self, name):\n",
    "        self.name = name\n",
    "\n",
    "    def speak(self):\n",
    "        print(f\"{self.name} makes a generic animal sound.\")\n",
    "\n",
    "class Dog(Animal):\n",
    "    def __init__(self, name, breed):\n",
    "        super().__init__(name)  # Calling the parent class's constructor\n",
    "        self.breed = breed\n",
    "\n",
    "    def speak(self):\n",
    "        super().speak()  # Calling the parent class's speak method\n",
    "        print(f\"{self.name} barks.\")\n",
    "\n",
    "\n",
    "generic_animal = Animal(\"Generic\")\n",
    "dog = Dog(\"Buddy\", \"Golden Retriever\")\n",
    "\n",
    "\n",
    "generic_animal.speak()\n",
    "print(\"----\")\n",
    "dog.speak()\n"
   ]
  },
  {
   "cell_type": "markdown",
   "id": "e51c8f83",
   "metadata": {},
   "source": [
    "# 6. Create a base class called \"Vehicle\" with attributes like \"make\", \"model\", and \"year\".Then, create a derived class called \"Car\" that inherits from \"Vehicle\" and adds an attribute called \"fuel_type\". Implement appropriate methods in both classes."
   ]
  },
  {
   "cell_type": "code",
   "execution_count": 2,
   "id": "d88b300f",
   "metadata": {},
   "outputs": [
    {
     "name": "stdout",
     "output_type": "stream",
     "text": [
      "Vehicle Information:\n",
      "Make: maruti\n",
      "Model: hatchback\n",
      "Year: 2000\n",
      "\n",
      "Car Information:\n",
      "Make: mahindra\n",
      "Model: car\n",
      "Year: 2023\n",
      "Fuel Type: desial\n"
     ]
    }
   ],
   "source": [
    "class Vehicle:\n",
    "    def __init__(self, make, model, year):\n",
    "        self.make = make\n",
    "        self.model = model\n",
    "        self.year = year\n",
    "\n",
    "    def display_info(self):\n",
    "        print(f\"Make: {self.make}\")\n",
    "        print(f\"Model: {self.model}\")\n",
    "        print(f\"Year: {self.year}\")\n",
    "\n",
    "class Car(Vehicle):\n",
    "    def __init__(self, make, model, year, fuel_type):\n",
    "        super().__init__(make, model, year)\n",
    "        self.fuel_type = fuel_type\n",
    "\n",
    "    def display_info(self):\n",
    "        super().display_info()  # Call the base class's display_info method\n",
    "        print(f\"Fuel Type: {self.fuel_type}\")\n",
    "\n",
    "\n",
    "vehicle = Vehicle(\"maruti\", \"hatchback\", 2000)\n",
    "car = Car(\"mahindra\", \"car\", 2023, \"desial\")\n",
    "\n",
    "\n",
    "print(\"Vehicle Information:\")\n",
    "vehicle.display_info()\n",
    "print(\"\\nCar Information:\")\n",
    "car.display_info()\n"
   ]
  },
  {
   "cell_type": "markdown",
   "id": "dd6d5414",
   "metadata": {},
   "source": [
    "# 7. Create a base class called \"Employee\" with attributes like \"name\" and \"salary.\" Derive two classes, \"Manager\" and \"Developer,\" from \"Employee.\" Add an additional attribute called \"department\" for the \"Manager\" class and \"programming_language\" for the \"Developer\" class."
   ]
  },
  {
   "cell_type": "code",
   "execution_count": 4,
   "id": "afc3d5e1",
   "metadata": {},
   "outputs": [
    {
     "name": "stdout",
     "output_type": "stream",
     "text": [
      "Employee Information:\n",
      "Name: vivek\n",
      "Salary: 50000\n",
      "\n",
      "Manager Information:\n",
      "Name: rahul\n",
      "Salary: 75000\n",
      "Department: HR\n",
      "\n",
      "Developer Information:\n",
      "Name: krish\n",
      "Salary: 60000\n",
      "Programming Language: Python\n"
     ]
    }
   ],
   "source": [
    "class Employee:\n",
    "    def __init__(self, name, salary):\n",
    "        self.name = name\n",
    "        self.salary = salary\n",
    "\n",
    "    def display_info(self):\n",
    "        print(f\"Name: {self.name}\")\n",
    "        print(f\"Salary: {self.salary}\")\n",
    "\n",
    "class Manager(Employee):\n",
    "    def __init__(self, name, salary, department):\n",
    "        super().__init__(name, salary)\n",
    "        self.department = department\n",
    "\n",
    "    def display_info(self):\n",
    "        super().display_info()  \n",
    "        print(f\"Department: {self.department}\")\n",
    "\n",
    "class Developer(Employee):\n",
    "    def __init__(self, name, salary, programming_language):\n",
    "        super().__init__(name, salary)\n",
    "        self.programming_language = programming_language\n",
    "\n",
    "    def display_info(self):\n",
    "        print(f\"Programming Language: {self.programming_language}\")\n",
    "\n",
    "\n",
    "employee = Employee(\"vivek\", 50000)\n",
    "manager = Manager(\"rahul\", 75000, \"HR\")\n",
    "developer = Developer(\"krish\", 60000, \"Python\")\n",
    "\n",
    "\n",
    "print(\"Employee Information:\")\n",
    "employee.display_info()\n",
    "print(\"\\nManager Information:\")\n",
    "manager.display_info()\n",
    "print(\"\\nDeveloper Information:\")\n",
    "developer.display_info()\n"
   ]
  },
  {
   "cell_type": "markdown",
   "id": "db46c43c",
   "metadata": {},
   "source": [
    "# 8. Design a base class called \"Shape\" with attributes like \"colour\" and \"border_width.\" Create derived classes, \"Rectangle\" and \"Circle,\" that inherit from \"Shape\" and add specific attributes like \"length\" and \"width\" for the \"Rectangle\" class and \"radius\" for the \"Circle\" class."
   ]
  },
  {
   "cell_type": "code",
   "execution_count": 5,
   "id": "6c1ffa71",
   "metadata": {},
   "outputs": [
    {
     "name": "stdout",
     "output_type": "stream",
     "text": [
      "Shape Information:\n",
      "Colour: Red\n",
      "Border Width: 2\n",
      "\n",
      "Rectangle Information:\n",
      "Colour: Blue\n",
      "Border Width: 1\n",
      "Length: 5\n",
      "Width: 3\n",
      "Area: 15\n",
      "\n",
      "Circle Information:\n",
      "Colour: Green\n",
      "Border Width: 2\n",
      "Radius: 4\n",
      "Area: 50.26548245743669\n"
     ]
    }
   ],
   "source": [
    "class Shape:\n",
    "    def __init__(self, colour, border_width):\n",
    "        self.colour = colour\n",
    "        self.border_width = border_width\n",
    "\n",
    "    def display_info(self):\n",
    "        print(f\"Colour: {self.colour}\")\n",
    "        print(f\"Border Width: {self.border_width}\")\n",
    "\n",
    "        \n",
    "class Circle(Shape):\n",
    "    def __init__(self, colour, border_width, radius):\n",
    "        super().__init__(colour, border_width)\n",
    "        self.radius = radius\n",
    "\n",
    "    def display_info(self):\n",
    "        super().display_info()  \n",
    "        print(f\"Radius: {self.radius}\")\n",
    "        print(f\"Area: {self.calculate_area()}\")\n",
    "\n",
    "    def calculate_area(self):\n",
    "        import math\n",
    "        return math.pi * (self.radius ** 2)\n",
    "\n",
    "\n",
    "        \n",
    "class Rectangle(Shape):\n",
    "    def __init__(self, colour, border_width, length, width):\n",
    "        super().__init__(colour, border_width)\n",
    "        self.length = length\n",
    "        self.width = width\n",
    "\n",
    "    def display_info(self):\n",
    "        super().display_info()  \n",
    "        print(f\"Length: {self.length}\")\n",
    "        print(f\"Width: {self.width}\")\n",
    "        print(f\"Area: {self.calculate_area()}\")\n",
    "\n",
    "    def calculate_area(self):\n",
    "        return self.length * self.width\n",
    "\n",
    "\n",
    "\n",
    "shape = Shape(\"blue\", 2)\n",
    "rectangle = Rectangle(\"green\", 2, 4, 1)\n",
    "circle = Circle(\"white\", 9, 8)\n",
    "\n",
    "# Displaying information\n",
    "print(\"Shape Information:\")\n",
    "shape.display_info()\n",
    "print(\"\\nRectangle Information:\")\n",
    "rectangle.display_info()\n",
    "print(\"\\nCircle Information:\")\n",
    "circle.display_info()\n"
   ]
  },
  {
   "cell_type": "markdown",
   "id": "734a072e",
   "metadata": {},
   "source": [
    "# 9. Create a base class called \"Device\" with attributes like \"brand\" and \"model.\" Derive two classes, \"Phone\" and \"Tablet,\" from \"Device.\" Add specific attributes like \"screen_size\" for the \"Phone\" class and \"battery_capacity\" for the \"Tablet\" class."
   ]
  },
  {
   "cell_type": "code",
   "execution_count": 6,
   "id": "4fa6f1b9",
   "metadata": {},
   "outputs": [
    {
     "name": "stdout",
     "output_type": "stream",
     "text": [
      "Device Information:\n",
      "Brand: mobile\n",
      "Model: android\n",
      "\n",
      "Phone Information:\n",
      "Brand: samsung\n",
      "Model: A 73\n",
      "Screen Size: 6.4 inches\n",
      "\n",
      "Tablet Information:\n",
      "Brand: ipad\n",
      "Model: apple mac\n",
      "Battery Capacity: 5500 mAh\n"
     ]
    }
   ],
   "source": [
    "class Device:\n",
    "    def __init__(self, brand, model):\n",
    "        self.brand = brand\n",
    "        self.model = model\n",
    "\n",
    "    def display_info(self):\n",
    "        print(f\"Brand: {self.brand}\")\n",
    "        print(f\"Model: {self.model}\")\n",
    "\n",
    "class Phone(Device):\n",
    "    def __init__(self, brand, model, screen_size):\n",
    "        super().__init__(brand, model)\n",
    "        self.screen_size = screen_size\n",
    "\n",
    "    def display_info(self):\n",
    "        super().display_info() \n",
    "        print(f\"Screen Size: {self.screen_size}\")\n",
    "\n",
    "class Tablet(Device):\n",
    "    def __init__(self, brand, model, battery_capacity):\n",
    "        super().__init__(brand, model)\n",
    "        self.battery_capacity = battery_capacity\n",
    "\n",
    "    def display_info(self):\n",
    "        super().display_info()  \n",
    "        print(f\"Battery Capacity: {self.battery_capacity}\")\n",
    "\n",
    "\n",
    "device = Device(\"mobile\", \"android\")\n",
    "phone = Phone(\"samsung\", \"A 73\", \"6.4 inches\")\n",
    "tablet = Tablet(\"ipad\", \"apple mac\", \"5500 mAh\")\n",
    "\n",
    "print(\"Device Information:\")\n",
    "device.display_info()\n",
    "print(\"\\nPhone Information:\")\n",
    "phone.display_info()\n",
    "print(\"\\nTablet Information:\")\n",
    "tablet.display_info()\n"
   ]
  },
  {
   "cell_type": "markdown",
   "id": "4cbfa306",
   "metadata": {},
   "source": [
    "# 10. Create a base class called \"BankAccount\" with attributes like \"account_number\" and \"balance.\" Derive two classes, \"SavingsAccount\" and \"CheckingAccount,\" from \"BankAccount.\" Add specific methods like \"calculate_interest\" for the \"SavingsAccount\" class and \"deduct_fees\" for the \"CheckingAccount\" class."
   ]
  },
  {
   "cell_type": "code",
   "execution_count": null,
   "id": "48e76c19",
   "metadata": {},
   "outputs": [],
   "source": [
    "class BankAccount:\n",
    "    def __init__(self, account_number, balance):\n",
    "        self.account_number = account_number\n",
    "        self.balance = balance\n",
    "\n",
    "    def display_info(self):\n",
    "        print(f\"Account Number: {self.account_number}\")\n",
    "        print(f\"Balance: {self.balance:.2f}\")\n",
    "\n",
    "class SavingsAccount(BankAccount):\n",
    "    def __init__(self, account_number, balance):\n",
    "        super().__init__(account_number, balance)\n",
    "\n",
    "    def calculate_interest(self, rate):\n",
    "        interest = self.balance * rate / 100\n",
    "        self.balance += interest\n",
    "        print(f\"Interest calculated: ${interest:.2f}\")\n",
    "\n",
    "class CheckingAccount(BankAccount):\n",
    "    def __init__(self, account_number, balance):\n",
    "        super().__init__(account_number, balance)\n",
    "\n",
    "    def deduct_fees(self, fee):\n",
    "        if self.balance >= fee:\n",
    "            self.balance -= fee\n",
    "            print(f\"Fees deducted: {fee:.2f}\")\n",
    "        else:\n",
    "            print(\"Insufficient balance to deduct fees.\")\n",
    "\n",
    "\n",
    "savings_account = SavingsAccount(\"va1245\", 9555)\n",
    "checking_account = CheckingAccount(\"sdf456\", 478)\n",
    "\n",
    "\n",
    "print(\"Savings Account Information:\")\n",
    "savings_account.display_info()\n",
    "print(\"\\nChecking Account Information:\")\n",
    "checking_account.display_info()\n",
    "\n",
    "\n",
    "savings_account.calculate_interest(2.5)\n",
    "checking_account.deduct_fees(20)\n",
    "\n",
    "\n",
    "print(\"\\nSavings Account Information after Interest:\")\n",
    "savings_account.display_info()\n",
    "print(\"\\nChecking Account Information after Fees:\")\n",
    "checking_account.display_info()\n"
   ]
  },
  {
   "cell_type": "code",
   "execution_count": null,
   "id": "a3b946c8",
   "metadata": {},
   "outputs": [],
   "source": []
  },
  {
   "cell_type": "code",
   "execution_count": null,
   "id": "fb22c212",
   "metadata": {},
   "outputs": [],
   "source": []
  },
  {
   "cell_type": "code",
   "execution_count": null,
   "id": "b8dde9fc",
   "metadata": {},
   "outputs": [],
   "source": []
  },
  {
   "cell_type": "code",
   "execution_count": null,
   "id": "8b3ff72c",
   "metadata": {},
   "outputs": [],
   "source": []
  }
 ],
 "metadata": {
  "kernelspec": {
   "display_name": "Python 3 (ipykernel)",
   "language": "python",
   "name": "python3"
  },
  "language_info": {
   "codemirror_mode": {
    "name": "ipython",
    "version": 3
   },
   "file_extension": ".py",
   "mimetype": "text/x-python",
   "name": "python",
   "nbconvert_exporter": "python",
   "pygments_lexer": "ipython3",
   "version": "3.10.9"
  }
 },
 "nbformat": 4,
 "nbformat_minor": 5
}
