{
 "cells": [
  {
   "cell_type": "markdown",
   "id": "9514474c",
   "metadata": {},
   "source": [
    "# 1. What is a lambda function in Python, and how does it differ from a regular function?"
   ]
  },
  {
   "cell_type": "markdown",
   "id": "f8255bba",
   "metadata": {},
   "source": [
    "Ans- A lambda function in Python is a small, anonymous function that can have any number of arguments, but can only have one expression. Lambda functions are often used when you need a quick, short function for a specific purpose without the need to define a formal function using the def keyword. They are also known as lambda expressions or lambda forms."
   ]
  },
  {
   "cell_type": "markdown",
   "id": "2c9c6407",
   "metadata": {},
   "source": [
    "# 2. Can a lambda function in Python have multiple arguments? If yes, how can you define and use them?"
   ]
  },
  {
   "cell_type": "code",
   "execution_count": null,
   "id": "e88c4bd1",
   "metadata": {},
   "outputs": [],
   "source": [
    "add = lambda x, y: x + y\n",
    "print(add(3, 5))\n",
    "# output = 8\n"
   ]
  },
  {
   "cell_type": "markdown",
   "id": "42e9409f",
   "metadata": {},
   "source": [
    "# 3. How are lambda functions typically used in Python? Provide an example use case."
   ]
  },
  {
   "cell_type": "code",
   "execution_count": null,
   "id": "e0c90b8a",
   "metadata": {},
   "outputs": [],
   "source": [
    "add=lambda a,b : a+b\n",
    "num1=int(input(\"enter 1st num:\"))\n",
    "num2=int(input(\"enter 2nd num:\"))\n",
    "print(add(num1,num2))"
   ]
  },
  {
   "cell_type": "markdown",
   "id": "d6b64b24",
   "metadata": {},
   "source": [
    "# 4. What are the advantages and limitations of lambda functions compared to regular functions in Python?"
   ]
  },
  {
   "cell_type": "code",
   "execution_count": null,
   "id": "970ce4e7",
   "metadata": {},
   "outputs": [],
   "source": [
    "'''Lambda functions in Python have their own set of advantages and limitations compared to regular (named) functions. \n",
    "    Here's a breakdown of their pros and cons:\n",
    "\n",
    "Advantages of Lambda Functions\n",
    "\n",
    "1. Lambda functions are concise and can be defined in a single line, making them suitable for simple operations that don't require extensive logic.\n",
    "\n",
    "2. Lambda functions are anonymous, meaning they don't require a formal name. This can be useful when you need a small function for a short-term purpose.\n",
    "\n",
    "3. Lambda functions are often used inline, directly as arguments to other functions like `map`, `filter`, and `sorted`, without cluttering your code with additional function definitions.\n",
    "\n",
    "4. For very simple operations, using a lambda function can make your code more readable by keeping the operation's definition close to where it's used.\n",
    "\n",
    "Limitations of Lambda Functions:\n",
    "\n",
    "1. Lambda functions can only consist of a single expression. This limits their ability to handle complex logic, multiple statements, or control structures like loops and conditionals.\n",
    "\n",
    "2. Lambda functions cannot contain statements like assignments or loops. They can only consist of an expression that returns a value.\n",
    "\n",
    "3. Lambda functions lack the ability to include docstrings (documentation strings) that describe their purpose and usage, making them less self-explanatory compared to regular functions.\n",
    "\n",
    "4.  Lambda functions are best suited for one-off, simple operations. Regular functions are more suitable for complex or frequently reused logic due to their ability to contain multiple statements and more comprehensive documentation.\n",
    "\n",
    "5. For newcomers to Python or programming in general, lambda functions might seem less intuitive compared to regular functions due to their specialized syntax and limitations.'''\n",
    "\n"
   ]
  },
  {
   "cell_type": "markdown",
   "id": "32951e2b",
   "metadata": {},
   "source": [
    "# 5. Are lambda functions in Python able to access variables defined outside of their own scope? Explain with an example."
   ]
  },
  {
   "cell_type": "code",
   "execution_count": null,
   "id": "d55baddb",
   "metadata": {},
   "outputs": [],
   "source": [
    "def practise(x):\n",
    "    multi = 9\n",
    "    return lambda y: y * (x + multi)\n",
    "\n",
    "double_and_multiply = practise(3)\n",
    "result = double_and_multiply(4)  \n",
    "\n",
    "print(result)\n"
   ]
  },
  {
   "cell_type": "markdown",
   "id": "5ac19e7a",
   "metadata": {},
   "source": [
    "# 6. Write a lambda function to calculate the square of a given number."
   ]
  },
  {
   "cell_type": "code",
   "execution_count": null,
   "id": "3b9ded7f",
   "metadata": {},
   "outputs": [],
   "source": [
    "f=lambda x:x*x\n",
    "num=int(input(\"enter the number:\"))\n",
    "print(f(num))"
   ]
  },
  {
   "cell_type": "markdown",
   "id": "73392b15",
   "metadata": {},
   "source": [
    "# 7. Create a lambda function to find the maximum value in a list of integers."
   ]
  },
  {
   "cell_type": "code",
   "execution_count": null,
   "id": "9ba897ad",
   "metadata": {},
   "outputs": [],
   "source": [
    "numbers = [2, 10, 12, 22, 70, 100]\n",
    "\n",
    "find_max = lambda nums: max(nums)\n",
    "\n",
    "max_value = find_max(numbers)\n",
    "print(max_value)  \n"
   ]
  },
  {
   "cell_type": "markdown",
   "id": "446495f2",
   "metadata": {},
   "source": [
    "# 8. Implement a lambda function to filter out all the even numbers from a list of integers."
   ]
  },
  {
   "cell_type": "code",
   "execution_count": null,
   "id": "d261b47a",
   "metadata": {},
   "outputs": [],
   "source": [
    "numbers = [2, 10, 12, 22, 70, 100]\n",
    "\n",
    "filter_even = lambda nums: list(filter(lambda x: x % 2 == 0, nums))\n",
    "\n",
    "even_numbers = filter_even(numbers)\n",
    "print(even_numbers)  \n"
   ]
  },
  {
   "cell_type": "markdown",
   "id": "76673f41",
   "metadata": {},
   "source": [
    "# 9. Write a lambda function to sort a list of strings in ascending order based on the length of each string."
   ]
  },
  {
   "cell_type": "code",
   "execution_count": null,
   "id": "ec95b5b7",
   "metadata": {},
   "outputs": [],
   "source": [
    "strings = [\"apple\", \"banana\", \"cherry\", \"date\", \"elderberry\"]\n",
    "\n",
    "sort_by_length = lambda strs: sorted(strs, key=lambda s: len(s))\n",
    "\n",
    "sorted_strings = sort_by_length(strings)\n",
    "print(sorted_strings)\n"
   ]
  },
  {
   "cell_type": "markdown",
   "id": "6f8ae513",
   "metadata": {},
   "source": [
    "# 10. Create a lambda function that takes two lists as input and returns a new list containing the common elements between the two lists."
   ]
  },
  {
   "cell_type": "code",
   "execution_count": null,
   "id": "0d5d80dd",
   "metadata": {},
   "outputs": [],
   "source": [
    "list1 = [1, 2, 3, 4, 5]\n",
    "list2 = [3, 4, 5, 6, 7]\n",
    "\n",
    "common = lambda lst1, lst2: list(filter(lambda x: x in lst2, lst1))\n",
    "\n",
    "common_elements = common(list1, list2)\n",
    "print(common_elements)  # Output: [3, 4, 5]\n"
   ]
  },
  {
   "cell_type": "code",
   "execution_count": null,
   "id": "ee1ac2cf",
   "metadata": {},
   "outputs": [],
   "source": []
  }
 ],
 "metadata": {
  "kernelspec": {
   "display_name": "Python 3 (ipykernel)",
   "language": "python",
   "name": "python3"
  },
  "language_info": {
   "codemirror_mode": {
    "name": "ipython",
    "version": 3
   },
   "file_extension": ".py",
   "mimetype": "text/x-python",
   "name": "python",
   "nbconvert_exporter": "python",
   "pygments_lexer": "ipython3",
   "version": "3.10.9"
  }
 },
 "nbformat": 4,
 "nbformat_minor": 5
}
