{
 "cells": [
  {
   "cell_type": "markdown",
   "id": "f2fcc350",
   "metadata": {},
   "source": [
    "# 1. What is the role of try and exception block?"
   ]
  },
  {
   "cell_type": "markdown",
   "id": "61ddca91",
   "metadata": {},
   "source": [
    "***Ans - The \"try\" and \"except\" blocks are used in programming to handle exceptions, which are unexpected or exceptional events that can occur during the execution of a program. They are part of a mechanism known as \"exception handling\" or \"error handling,\" which allows you to gracefully handle errors and prevent your program from crashing or producing incorrect results when something goes wrong.***"
   ]
  },
  {
   "cell_type": "markdown",
   "id": "4f2318eb",
   "metadata": {},
   "source": [
    "# 2. What is the syntax for a basic try-except block?"
   ]
  },
  {
   "cell_type": "code",
   "execution_count": null,
   "id": "0412add7",
   "metadata": {},
   "outputs": [],
   "source": [
    "try:\n",
    "    # code\n",
    "    \n",
    "except ExceptionType:\n",
    "    # Code to handle the exception of type ExceptionType\n",
    "    \n"
   ]
  },
  {
   "cell_type": "markdown",
   "id": "02575eba",
   "metadata": {},
   "source": [
    "# 3. What happens if an exception occurs inside a try block and there is no matching except block?"
   ]
  },
  {
   "cell_type": "markdown",
   "id": "6e0d3427",
   "metadata": {},
   "source": [
    "***Ans - If an exception occurs inside a \"try\" block and there is no matching \"except\" block to handle that specific type of exception, the exception will not be caught and handled by the program. Instead, the exception will propagate up the call stack until it's caught by an appropriate \"except\" block at a higher level, or if it reaches the top level of the program, it may result in the program terminating and displaying an error message.***"
   ]
  },
  {
   "cell_type": "code",
   "execution_count": 2,
   "id": "dda13043",
   "metadata": {},
   "outputs": [
    {
     "name": "stdout",
     "output_type": "stream",
     "text": [
      "Enter a number: 5\n",
      "Result: 2.0\n"
     ]
    }
   ],
   "source": [
    "try:\n",
    "    num = int(input(\"Enter a number: \"))\n",
    "    result = 10 / num\n",
    "    print(\"Result:\", result)\n",
    "except ValueError:\n",
    "    print(\"Invalid input! Please enter a valid number.\")\n"
   ]
  },
  {
   "cell_type": "markdown",
   "id": "4cd50b4b",
   "metadata": {},
   "source": [
    "# 4. What is the difference between using a bare except block and specifying a specific exception type?"
   ]
  },
  {
   "cell_type": "markdown",
   "id": "dce11c23",
   "metadata": {},
   "source": [
    "***Ans - Using a bare \"except\" block and specifying a specific exception type in an exception handling construct like a \"try-except\" block has significant implications for how exceptions are caught and handled in your code.\n",
    "When you specify a specific exception type in an \"except\" block, you are indicating that you want to catch and handle only that particular type of exception.***"
   ]
  },
  {
   "cell_type": "markdown",
   "id": "b0c8f712",
   "metadata": {},
   "source": [
    "# 5. Can you have nested try-except blocks in Python? If yes, then give an example."
   ]
  },
  {
   "cell_type": "code",
   "execution_count": null,
   "id": "feb6340b",
   "metadata": {},
   "outputs": [],
   "source": [
    "# In this code we use nested try-except block\n",
    "try:\n",
    "    outer_number = int(input(\"Enter an outer number: \"))\n",
    "    \n",
    "    try:\n",
    "        inner_number = int(input(\"Enter an inner number: \"))\n",
    "        result = outer_number / inner_number\n",
    "        print(\"Result:\", result)\n",
    "    except ZeroDivisionError:\n",
    "        print(\"Cannot divide by zero in the inner block!\")\n",
    "    except ValueError:\n",
    "        print(\"Invalid input in the inner block! Please enter a valid number.\")\n",
    "    \n",
    "except ValueError:\n",
    "    print(\"Invalid input in the outer block! Please enter a valid number.\")\n"
   ]
  },
  {
   "cell_type": "markdown",
   "id": "55396157",
   "metadata": {},
   "source": [
    "# 6. Can we use multiple exception blocks, if yes then give an example."
   ]
  },
  {
   "cell_type": "code",
   "execution_count": null,
   "id": "ec8a9867",
   "metadata": {},
   "outputs": [],
   "source": [
    "# Here in this code we can se multiple exception blocks\n",
    "try:\n",
    "    num = int(input(\"Enter a number: \"))\n",
    "    result = 10 / num\n",
    "    print(\"Result:\", result)\n",
    "except ZeroDivisionError:\n",
    "    print(\"Cannot divide by zero!\")\n",
    "except ValueError:\n",
    "    print(\"Invalid input! Please enter a valid number.\")\n",
    "except Exception as e:\n",
    "    print(\"An unexpected error occurred:\", e)\n"
   ]
  },
  {
   "cell_type": "markdown",
   "id": "4df219a7",
   "metadata": {},
   "source": [
    "# 7. Write the reason due to which following errors are raised:"
   ]
  },
  {
   "cell_type": "markdown",
   "id": "5104d7b5",
   "metadata": {},
   "source": [
    "***a. EOFError***\n",
    "\n",
    "***b. FloatingPointError***\n",
    "\n",
    "***c. IndexError***\n",
    "\n",
    "***d. MemoryError***\n",
    "\n",
    "***e. OverflowError***\n",
    "\n",
    "***f. TabError***\n",
    "\n",
    "***g. ValueError***"
   ]
  },
  {
   "cell_type": "markdown",
   "id": "34abb2c9",
   "metadata": {},
   "source": [
    " **a. EOFError: This error stands for \"End of File Error.\" It occurs when an input operation** "
   ]
  },
  {
   "cell_type": "markdown",
   "id": "57aaa491",
   "metadata": {},
   "source": [
    "**b. FloatingPointError: This error occurs when a floating-point operation fails or is not defined.**"
   ]
  },
  {
   "cell_type": "markdown",
   "id": "b9234552",
   "metadata": {},
   "source": [
    "**c. IndexError: This error is raised when trying to access an index of a sequence (such as a list or string) that is outside the valid range of indices.**"
   ]
  },
  {
   "cell_type": "markdown",
   "id": "aa270479",
   "metadata": {},
   "source": [
    "**d. MemoryError: This error occurs when the Python runtime runs out of available memory to allocate for new objects.**"
   ]
  },
  {
   "cell_type": "markdown",
   "id": "61788d23",
   "metadata": {},
   "source": [
    "**e. OverflowError: This error is raised when a numerical operation results in a value that is too large to be represented within the available memory.**"
   ]
  },
  {
   "cell_type": "markdown",
   "id": "06b72218",
   "metadata": {},
   "source": [
    "**f. TabError: This error occurs due to inconsistent use of tabs and spaces for indentation in Python code.**"
   ]
  },
  {
   "cell_type": "markdown",
   "id": "9fa8b995",
   "metadata": {},
   "source": [
    "**g. ValueError: This error is raised when an operation or function receives an argument of the correct data type but with an inappropriate or invalid value.**"
   ]
  },
  {
   "cell_type": "markdown",
   "id": "c59bed63",
   "metadata": {},
   "source": [
    "# 8. Write code for the following given scenario and add try-exception block to it.\n",
    "# a. Program to divide two numbers\n",
    "# b. Program to convert a string to an integer\n",
    "# c. Program to access an element in a list\n",
    "# d. Program to handle a specific exception\n",
    "# e. Program to handle any exception"
   ]
  },
  {
   "cell_type": "code",
   "execution_count": null,
   "id": "ac8164d6",
   "metadata": {},
   "outputs": [],
   "source": [
    "# program to divide two numbers\n",
    "try:\n",
    "    num1 = float(input(\"Enter the first number: \"))\n",
    "    num2 = float(input(\"Enter the second number: \"))\n",
    "    result = num1 / num2\n",
    "    print(\"Result:\", result)\n",
    "except ZeroDivisionError:\n",
    "    print(\"Cannot divide by zero!\")\n",
    "except ValueError:\n",
    "    print(\"Invalid input! Please enter valid numbers.\")\n",
    "except Exception as e:\n",
    "    print(\"An unexpected error occurred:\", e)\n"
   ]
  },
  {
   "cell_type": "code",
   "execution_count": null,
   "id": "b57476ea",
   "metadata": {},
   "outputs": [],
   "source": [
    "# program to convert string into integer number\n",
    "try:\n",
    "    num_str = input(\"Enter a number as a string: \")\n",
    "    num = int(num_str)\n",
    "    print(\"Converted number:\", num)\n",
    "except ValueError:\n",
    "    print(\"Invalid input! The input is not a valid integer.\")\n",
    "except Exception as e:\n",
    "    print(\"An unexpected error occurred:\", e)\n"
   ]
  },
  {
   "cell_type": "code",
   "execution_count": null,
   "id": "8c338eb7",
   "metadata": {},
   "outputs": [],
   "source": [
    "# program to access element in list\n",
    "try:\n",
    "    my_list = [1, 2, 3, 4, 5]\n",
    "    index = int(input(\"Enter an index: \"))\n",
    "    value = my_list[index]\n",
    "    print(\"Value at index\", index, \"is:\", value)\n",
    "except IndexError:\n",
    "    print(\"Index out of range! Please enter a valid index.\")\n",
    "except ValueError:\n",
    "    print(\"Invalid input! Please enter a valid index.\")\n",
    "except Exception as e:\n",
    "    print(\"An unexpected error occurred:\", e)\n"
   ]
  },
  {
   "cell_type": "code",
   "execution_count": null,
   "id": "99e1baa7",
   "metadata": {},
   "outputs": [],
   "source": [
    "# prgram to handle a specific exeptation\n",
    "try:\n",
    "    num = int(input(\"Enter a number: \"))\n",
    "    if num < 0:\n",
    "        raise ValueError(\"Negative numbers are not allowed.\")\n",
    "    print(\"Number entered:\", num)\n",
    "except ValueError as ve:\n",
    "    print(\"ValueError:\", ve)\n",
    "except Exception as e:\n",
    "    print(\"An unexpected error occurred:\", e)\n"
   ]
  },
  {
   "cell_type": "code",
   "execution_count": null,
   "id": "90552323",
   "metadata": {},
   "outputs": [],
   "source": [
    "# program to handle any exeption\n",
    "try:\n",
    "    x = 10 / 0  \n",
    "except Exception as e:\n",
    "    print(\"An exception occurred:\", e)\n"
   ]
  }
 ],
 "metadata": {
  "kernelspec": {
   "display_name": "Python 3 (ipykernel)",
   "language": "python",
   "name": "python3"
  },
  "language_info": {
   "codemirror_mode": {
    "name": "ipython",
    "version": 3
   },
   "file_extension": ".py",
   "mimetype": "text/x-python",
   "name": "python",
   "nbconvert_exporter": "python",
   "pygments_lexer": "ipython3",
   "version": "3.10.9"
  }
 },
 "nbformat": 4,
 "nbformat_minor": 5
}
