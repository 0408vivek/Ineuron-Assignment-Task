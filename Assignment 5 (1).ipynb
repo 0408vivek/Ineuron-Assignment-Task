{
 "cells": [
  {
   "cell_type": "markdown",
   "id": "38406f56",
   "metadata": {},
   "source": [
    "# Q-1 What does an empty dictionary's code look like ? "
   ]
  },
  {
   "cell_type": "code",
   "execution_count": 1,
   "id": "1d802caf",
   "metadata": {},
   "outputs": [],
   "source": [
    "# Ans- { } , An empty curly braces is empty dictionary "
   ]
  },
  {
   "cell_type": "markdown",
   "id": "2b6cf254",
   "metadata": {},
   "source": [
    "# Q-2 What is the value of a dictionary value with the key 'foo' and the value 42 ?"
   ]
  },
  {
   "cell_type": "code",
   "execution_count": 2,
   "id": "119a635f",
   "metadata": {},
   "outputs": [
    {
     "data": {
      "text/plain": [
       "dict"
      ]
     },
     "execution_count": 2,
     "metadata": {},
     "output_type": "execute_result"
    }
   ],
   "source": [
    "# Ans -\n",
    "#variable name = {\"key1\":\"value1\"}\n",
    "dic={\"foo\":42}\n",
    "type(dic)"
   ]
  },
  {
   "cell_type": "markdown",
   "id": "f11db794",
   "metadata": {},
   "source": [
    "# Q-3 What is the most significant distinction between a dictionary and a list ?"
   ]
  },
  {
   "cell_type": "code",
   "execution_count": 3,
   "id": "ea634aba",
   "metadata": {},
   "outputs": [],
   "source": [
    "# Ans-\n",
    "# In dictionary and list main difference are {} and []\n",
    "# Dictionary used {} curly braces\n",
    "# List used [] \n",
    "# In dictionary items stored in unorderd way \n",
    "# While in list items stored in orderd way "
   ]
  },
  {
   "cell_type": "markdown",
   "id": "8f260aad",
   "metadata": {},
   "source": [
    "# Q-4 What happens if you try to access spam['foo'] if spam is {\"bar\":100}?"
   ]
  },
  {
   "cell_type": "code",
   "execution_count": 5,
   "id": "bca8a294",
   "metadata": {},
   "outputs": [],
   "source": [
    "# Ans-\n",
    "#spam={\"bar\":100}\n",
    "#spam['foo']\n",
    "# this code give keyError "
   ]
  },
  {
   "cell_type": "markdown",
   "id": "e0426005",
   "metadata": {},
   "source": [
    "# Q-5 If a dictionary is stored in spam , what is the differece between the expressions 'cat' in spam and 'cat' in spam.key()?"
   ]
  },
  {
   "cell_type": "code",
   "execution_count": 6,
   "id": "0a4cf16e",
   "metadata": {},
   "outputs": [],
   "source": [
    "# Ans-\n",
    "# No difference , operat cheak that value exits as a key or not"
   ]
  },
  {
   "cell_type": "markdown",
   "id": "8b48cb15",
   "metadata": {},
   "source": [
    "# Q-6 If a dictionary is stored in spam , what is the difference between the exprssions 'cat' in spam and 'cat' in spam.values()?"
   ]
  },
  {
   "cell_type": "code",
   "execution_count": 7,
   "id": "8fcecfae",
   "metadata": {},
   "outputs": [
    {
     "data": {
      "text/plain": [
       "dict_values(['cat'])"
      ]
     },
     "execution_count": 7,
     "metadata": {},
     "output_type": "execute_result"
    }
   ],
   "source": [
    "spam={\"cat\":\"cat\"}\n",
    "spam.values()\n"
   ]
  },
  {
   "cell_type": "markdown",
   "id": "a7fa2acf",
   "metadata": {},
   "source": [
    "# Q-7 What is a shortcut for the following code ?\n"
   ]
  },
  {
   "cell_type": "markdown",
   "id": "dac448cc",
   "metadata": {},
   "source": [
    "\n",
    "    if 'color ' not in spam : spam[\"color\"]=\"black\""
   ]
  },
  {
   "cell_type": "code",
   "execution_count": 9,
   "id": "cab631a4",
   "metadata": {},
   "outputs": [
    {
     "data": {
      "text/plain": [
       "'black'"
      ]
     },
     "execution_count": 9,
     "metadata": {},
     "output_type": "execute_result"
    }
   ],
   "source": [
    "spam.setdefault(\"color\",\"black\")"
   ]
  },
  {
   "cell_type": "markdown",
   "id": "04f8e000",
   "metadata": {},
   "source": [
    "# Q-8 How do you ' pretty print ' dictionary values using which modules and function ?\n"
   ]
  },
  {
   "cell_type": "code",
   "execution_count": null,
   "id": "6a6b9538",
   "metadata": {},
   "outputs": [],
   "source": [
    "import json\n",
    "\n",
    "\n",
    "data = {\n",
    "    \"name\": \"John\",\n",
    "    \"age\": 30,\n",
    "    \"city\": \"New York\"\n",
    "}\n",
    "pretty_data = json.dumps(data, indent=4)\n",
    "print(pretty_data)\n"
   ]
  }
 ],
 "metadata": {
  "kernelspec": {
   "display_name": "Python 3 (ipykernel)",
   "language": "python",
   "name": "python3"
  },
  "language_info": {
   "codemirror_mode": {
    "name": "ipython",
    "version": 3
   },
   "file_extension": ".py",
   "mimetype": "text/x-python",
   "name": "python",
   "nbconvert_exporter": "python",
   "pygments_lexer": "ipython3",
   "version": "3.10.9"
  }
 },
 "nbformat": 4,
 "nbformat_minor": 5
}
