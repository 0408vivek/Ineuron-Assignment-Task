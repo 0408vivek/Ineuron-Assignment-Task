{
 "cells": [
  {
   "cell_type": "markdown",
   "id": "2d54058f",
   "metadata": {},
   "source": [
    "# 1. What is the primary goal of Object-Oriented Programming (OOP)?"
   ]
  },
  {
   "cell_type": "code",
   "execution_count": null,
   "id": "745f38b5",
   "metadata": {},
   "outputs": [],
   "source": [
    "# oops goals . \n",
    "# the three goals of oops programing are robustness , Adaptability and reusability\n"
   ]
  },
  {
   "cell_type": "markdown",
   "id": "a0135527",
   "metadata": {},
   "source": [
    "# 2. What is an object in Python?"
   ]
  },
  {
   "cell_type": "code",
   "execution_count": null,
   "id": "3d94e552",
   "metadata": {},
   "outputs": [],
   "source": [
    "# An Object is an instance of a Class. A class is like a blueprint while an instance is a copy of the class with actual values. \n",
    "# Python is an object-oriented programming language that stresses objects i.e. it mainly emphasizes functions."
   ]
  },
  {
   "cell_type": "markdown",
   "id": "958bf272",
   "metadata": {},
   "source": [
    "# 3. What is a class in Python?"
   ]
  },
  {
   "cell_type": "code",
   "execution_count": null,
   "id": "8f2cf16d",
   "metadata": {},
   "outputs": [],
   "source": [
    "# A class is a user-defined blueprint or prototype from which objects are created. \n",
    "# Classes provide a means of bundling data and functionality together. Creating a new class creates a new type of object, \n",
    "# allowing new instances of that type to be made"
   ]
  },
  {
   "cell_type": "markdown",
   "id": "1f16741f",
   "metadata": {},
   "source": [
    "# 4. What are attributes and methods in a class?"
   ]
  },
  {
   "cell_type": "code",
   "execution_count": null,
   "id": "eb2fdcb7",
   "metadata": {},
   "outputs": [],
   "source": [
    "'''Class Attributes are the attributes that belong to the class itself rather than a particular object. \n",
    "Usually, we use class attributes to define the attributes that have a common value among all the objects inside the class. \n",
    "Class Methods are the methods that have access to the class attributes'''"
   ]
  },
  {
   "cell_type": "markdown",
   "id": "9313670a",
   "metadata": {},
   "source": [
    "# 5. What is the difference between class variables and instance variables in Python?"
   ]
  },
  {
   "cell_type": "code",
   "execution_count": null,
   "id": "7457dd89",
   "metadata": {},
   "outputs": [],
   "source": [
    "'''Class variables are useful for storing data that is shared among all instances of a class, \n",
    "such as constants or default values. Instance variables are used to store data that is unique to each instance of a class, \n",
    "such as object properties.'''"
   ]
  },
  {
   "cell_type": "markdown",
   "id": "be6d4c10",
   "metadata": {},
   "source": [
    "# 6. What is the purpose of the self parameter in Python class methods?"
   ]
  },
  {
   "cell_type": "code",
   "execution_count": null,
   "id": "53ae72d9",
   "metadata": {},
   "outputs": [],
   "source": [
    "'''self represents the instance of the class. By using the “self” we can access the attributes and methods of the class in python. \n",
    "    It binds the attributes with the given arguments. The reason you need to use self. \n",
    "    is because Python does not use the @ syntax to refer to instance attributes'''"
   ]
  },
  {
   "cell_type": "markdown",
   "id": "f2898a7c",
   "metadata": {},
   "source": [
    "# 7. For a library management system, you have to design the \"Book\" class with OOP\n",
    "# principles in mind. The “Book” class will have following attributes:\n"
   ]
  },
  {
   "cell_type": "code",
   "execution_count": null,
   "id": "83c317be",
   "metadata": {},
   "outputs": [],
   "source": [
    "# a. title: Represents the title of the book.\n",
    "# b. author: Represents the author(s) of the book.\n",
    "# c. isbn: Represents the ISBN (International Standard Book Number) of the book.\n",
    "# d. publication_year: Represents the year of publication of the book.\n",
    "# e. available_copies: Represents the number of copies available for checkout.\n",
    "# The class will also include the following methods:\n",
    "# a. check_out(self): Decrements the available copies by one if there are copies\n",
    "# available for checkout.\n",
    "# b. return_book(self): Increments the available copies by one when a book is\n",
    "# returned.\n",
    "# c. display_book_info(self): Displays the information about the book, including its\n",
    "# attributes and the number of available copies."
   ]
  },
  {
   "cell_type": "code",
   "execution_count": null,
   "id": "cda14946",
   "metadata": {},
   "outputs": [],
   "source": [
    "class Book:\n",
    "    def __init__(self, title, author, isbn, publication_year, available_copies):\n",
    "        self.title = title\n",
    "        self.author = author\n",
    "        self.isbn = isbn\n",
    "        self.publication_year = publication_year\n",
    "        self.available_copies = available_copies\n",
    "\n",
    "    def check_out(self):\n",
    "        if self.available_copies > 0:\n",
    "            self.available_copies -= 1\n",
    "            print(f\"A copy of '{self.title}' has been checked out.\")\n",
    "        else:\n",
    "            print(f\"Sorry, '{self.title}' is not available for checkout.\")\n",
    "\n",
    "    def return_book(self):\n",
    "        self.available_copies += 1\n",
    "        print(f\"A copy of '{self.title}' has been returned.\")\n",
    "\n",
    "    def display_book_info(self):\n",
    "        print(\"Book Information:\")\n",
    "        print(f\"Title: {self.title}\")\n",
    "        print(f\"Author(s): {self.author}\")\n",
    "        print(f\"ISBN: {self.isbn}\")\n",
    "        print(f\"Publication Year: {self.publication_year}\")\n",
    "        print(f\"Available Copies: {self.available_copies}\")\n",
    "\n",
    "\n",
    "\n",
    "book1 = Book(\"three idiots\", \"chetan bhagat\", \"123456\", 2008, 2)\n",
    "\n",
    "\n",
    "book1.check_out()\n",
    "book1.display_book_info()\n",
    "book1.return_book()\n",
    "\n"
   ]
  },
  {
   "cell_type": "markdown",
   "id": "2aa3d1c6",
   "metadata": {},
   "source": [
    "# 8. For a ticket booking system, you have to design the \"Ticket\" class with OOP\n",
    "# principles in mind. The “Ticket” class should have the following attributes:"
   ]
  },
  {
   "cell_type": "markdown",
   "id": "293cea9d",
   "metadata": {},
   "source": [
    "a. ticket_id: Represents the unique identifier for the ticket.\n",
    "b. event_name: Represents the name of the event.\n",
    "c. event_date: Represents the date of the event.\n",
    "d. venue: Represents the venue of the event.\n",
    "e. seat_number: Represents the seat number associated with the ticket.\n",
    "f. price: Represents the price of the ticket.\n",
    "g. is_reserved: Represents the reservation status of the ticket.\n",
    "The class also includes the following methods:\n",
    "a. reserve_ticket(self): Marks the ticket as reserved if it is not already reserved.\n",
    "b. cancel_reservation(self): Cancels the reservation of the ticket if it is already\n",
    "reserved.\n",
    "c. display_ticket_info(self): Displays the information about the ticket, including its\n",
    "attributes and reservation status."
   ]
  },
  {
   "cell_type": "code",
   "execution_count": 1,
   "id": "5dbdb4df",
   "metadata": {},
   "outputs": [
    {
     "name": "stdout",
     "output_type": "stream",
     "text": [
      "Ticket 123456 has been reserved for marrige.\n",
      "Ticket Information:\n",
      "Ticket ID: 123456\n",
      "Seat Number: c12\n",
      "Price: $500\n",
      "Reservation Status: Reserved\n",
      "Reservation for Ticket 123456 has been canceled.\n",
      "Ticket Information:\n",
      "Ticket ID: 123456\n",
      "Seat Number: c12\n",
      "Price: $500\n",
      "Reservation Status: Not Reserved\n"
     ]
    }
   ],
   "source": [
    "class Ticket:\n",
    "    def __init__(self, ticket_id, event_name, event_date, venue, seat_number, price):\n",
    "        self.ticket_id = ticket_id\n",
    "        self.event_name = event_name\n",
    "        self.event_date = event_date\n",
    "        self.venue = venue\n",
    "        self.seat_number = seat_number\n",
    "        self.price = price\n",
    "        self.is_reserved = False\n",
    "\n",
    "    def reserve_ticket(self):\n",
    "        if not self.is_reserved:\n",
    "            self.is_reserved = True\n",
    "            print(f\"Ticket {self.ticket_id} has been reserved for {self.event_name}.\")\n",
    "        else:\n",
    "            print(f\"Ticket {self.ticket_id} is already reserved.\")\n",
    "\n",
    "    def cancel_reservation(self):\n",
    "        if self.is_reserved:\n",
    "            self.is_reserved = False\n",
    "            print(f\"Reservation for Ticket {self.ticket_id} has been canceled.\")\n",
    "        else:\n",
    "            print(f\"Ticket {self.ticket_id} is not currently reserved.\")\n",
    "\n",
    "    def display_ticket_info(self):\n",
    "        print(\"Ticket Information:\")\n",
    "        print(f\"Ticket ID: {self.ticket_id}\")\n",
    "        print(f\"Seat Number: {self.seat_number}\")\n",
    "        print(f\"Price: ${self.price}\")\n",
    "        reservation_status = \"Reserved\" if self.is_reserved else \"Not Reserved\"\n",
    "        print(f\"Reservation Status: {reservation_status}\")\n",
    "\n",
    "\n",
    "\n",
    "ticket1 = Ticket(\"123456\", \"marrige\", \"17-08-2023\", \"marrige hall\", \"c12\", 500)\n",
    "\n",
    "\n",
    "ticket1.reserve_ticket()\n",
    "ticket1.display_ticket_info()\n",
    "ticket1.cancel_reservation()\n",
    "ticket1.display_ticket_info()\n",
    "\n",
    "\n"
   ]
  },
  {
   "cell_type": "markdown",
   "id": "dfdf630e",
   "metadata": {},
   "source": [
    "# 9. You are creating a shopping cart for an e-commerce website. Using OOP to model the \"ShoppingCart\" functionality the class should contain following attributes and methods:"
   ]
  },
  {
   "cell_type": "code",
   "execution_count": null,
   "id": "e4114793",
   "metadata": {},
   "outputs": [],
   "source": [
    "'''a. items: Represents the list of items in the shopping cart.\n",
    "The class also includes the following methods:\n",
    "\n",
    "a. add_item(self, item): Adds an item to the shopping cart by appending it to the\n",
    "list of items.\n",
    "b. remove_item(self, item): Removes an item from the shopping cart if it exists in\n",
    "the list.\n",
    "c. view_cart(self): Displays the items currently present in the shopping cart.\n",
    "d. clear_cart(self): Clears all items from the shopping cart by reassigning an\n",
    "empty list to the items attribute.'''"
   ]
  },
  {
   "cell_type": "code",
   "execution_count": null,
   "id": "832bff35",
   "metadata": {},
   "outputs": [],
   "source": [
    "class ShoppingCart:\n",
    "    def __init__(self):\n",
    "        self.items = []\n",
    "\n",
    "    def add_item(self, item):\n",
    "        self.items.append(item)\n",
    "        print(f\"Item '{item}' has been added to the shopping cart.\")\n",
    "\n",
    "    def remove_item(self, item):\n",
    "        if item in self.items:\n",
    "            self.items.remove(item)\n",
    "            print(f\"Item '{item}' has been removed from the shopping cart.\")\n",
    "        else:\n",
    "            print(f\"Item '{item}' is not in the shopping cart.\")\n",
    "\n",
    "    def view_cart(self):\n",
    "        if not self.items:\n",
    "            print(\"Your shopping cart is empty.\")\n",
    "        else:\n",
    "            print(\"Items in your shopping cart:\")\n",
    "            for item in self.items:\n",
    "                print(item)\n",
    "\n",
    "    def clear_cart(self):\n",
    "        self.items = []\n",
    "        print(\"Your shopping cart has been cleared.\")\n",
    "\n",
    "\n",
    "\n",
    "cart = ShoppingCart()\n",
    "\n",
    "cart.add_item(\"T-shirt\")\n",
    "cart.add_item(\"Shoes\")\n",
    "cart.view_cart()\n",
    "\n",
    "cart.remove_item(\"T-shirt\")\n",
    "cart.view_cart()\n",
    "\n",
    "cart.clear_cart()\n",
    "cart.view_cart()\n"
   ]
  },
  {
   "cell_type": "code",
   "execution_count": null,
   "id": "5b0ed3fc",
   "metadata": {},
   "outputs": [],
   "source": []
  },
  {
   "cell_type": "code",
   "execution_count": null,
   "id": "7928f00b",
   "metadata": {},
   "outputs": [],
   "source": []
  },
  {
   "cell_type": "code",
   "execution_count": null,
   "id": "e49a6b84",
   "metadata": {},
   "outputs": [],
   "source": []
  },
  {
   "cell_type": "markdown",
   "id": "2c0a4e9b",
   "metadata": {},
   "source": []
  }
 ],
 "metadata": {
  "kernelspec": {
   "display_name": "Python 3 (ipykernel)",
   "language": "python",
   "name": "python3"
  },
  "language_info": {
   "codemirror_mode": {
    "name": "ipython",
    "version": 3
   },
   "file_extension": ".py",
   "mimetype": "text/x-python",
   "name": "python",
   "nbconvert_exporter": "python",
   "pygments_lexer": "ipython3",
   "version": "3.10.9"
  }
 },
 "nbformat": 4,
 "nbformat_minor": 5
}
