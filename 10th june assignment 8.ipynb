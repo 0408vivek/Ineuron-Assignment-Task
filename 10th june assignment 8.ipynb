{
 "cells": [
  {
   "cell_type": "markdown",
   "id": "9c32f50b",
   "metadata": {},
   "source": [
    "## 1. In Python, what is the difference between a built-in function and a user-defined function? Provide an example of each. "
   ]
  },
  {
   "cell_type": "code",
   "execution_count": 2,
   "id": "bef3fb7d",
   "metadata": {},
   "outputs": [],
   "source": [
    "# In python , if you define the function yourself called user define function \n",
    "# and when function not define by user then called built-in function aslo called as predeifne function\n",
    "# predefine function example : len() , type() etc\n"
   ]
  },
  {
   "cell_type": "code",
   "execution_count": 3,
   "id": "b3c1abb7",
   "metadata": {},
   "outputs": [
    {
     "name": "stdout",
     "output_type": "stream",
     "text": [
      "3.0\n"
     ]
    }
   ],
   "source": [
    "# user define function example :\n",
    "def calculate_cube_root(x):\n",
    "    return x**(1/3)\n",
    "  \n",
    "# Call the def function to calculate cube\n",
    "# root and print it\n",
    "print(calculate_cube_root(27))"
   ]
  },
  {
   "cell_type": "code",
   "execution_count": 4,
   "id": "bc3b5ea9",
   "metadata": {},
   "outputs": [
    {
     "name": "stdout",
     "output_type": "stream",
     "text": [
      "0\n",
      "1\n",
      "2\n",
      "3\n",
      "4\n",
      "5\n",
      "6\n",
      "7\n",
      "8\n"
     ]
    }
   ],
   "source": [
    "# built in function \n",
    "# range a built in function\n",
    "for i in range(9):\n",
    "    print(i)"
   ]
  },
  {
   "cell_type": "markdown",
   "id": "69f128b5",
   "metadata": {},
   "source": [
    "# 2. How can you pass arguments to a function in Python? Explain the difference between positional arguments and keyword arguments."
   ]
  },
  {
   "cell_type": "code",
   "execution_count": null,
   "id": "46ed09c6",
   "metadata": {},
   "outputs": [],
   "source": [
    "# Python functions can contain two types of arguments: \n",
    "# positional arguments and keyword arguments. \n",
    "# Positional arguments must be included in the correct order. \n",
    "# Keyword arguments are included with a keyword and equals sign.\n",
    "\n"
   ]
  },
  {
   "cell_type": "markdown",
   "id": "28c25ae7",
   "metadata": {},
   "source": [
    "# 3. What is the purpose of the return statement in a function? Can a function have multiple return statements? Explain with an example."
   ]
  },
  {
   "cell_type": "code",
   "execution_count": 8,
   "id": "ce28e5a3",
   "metadata": {},
   "outputs": [],
   "source": [
    "\n",
    "# A return statement is used to end the execution of the function call \n",
    "# and “returns” the result (value of the expression following the return keyword) to the caller. \n",
    "# The statements after the return statements are not executed. If the return statement is without any expression\n",
    "# then the special value None is returned."
   ]
  },
  {
   "cell_type": "code",
   "execution_count": 11,
   "id": "f7d6f09d",
   "metadata": {},
   "outputs": [
    {
     "name": "stdout",
     "output_type": "stream",
     "text": [
      "Result of add function is 5\n",
      "\n",
      "Result of is_true function is True\n"
     ]
    }
   ],
   "source": [
    "# Python program to\n",
    "# demonstrate return statement\n",
    "\n",
    "def add(a, b):\n",
    "\n",
    "# returning sum of a and b\n",
    "    return a + b\n",
    "\n",
    "def is_true(a):\n",
    "\n",
    "# returning boolean of a\n",
    "    return bool(a)\n",
    "\n",
    "# calling function\n",
    "res = add(2, 3)\n",
    "print(\"Result of add function is {}\".format(res))\n",
    "\n",
    "res = is_true(2<5)\n",
    "print(\"\\nResult of is_true function is {}\".format(res))\n"
   ]
  },
  {
   "cell_type": "markdown",
   "id": "3f4971f2",
   "metadata": {},
   "source": [
    "# 4. What are lambda functions in Python? How are they different from regular functions? Provide an example where a lambda function can be useful."
   ]
  },
  {
   "cell_type": "code",
   "execution_count": 12,
   "id": "fcc9c075",
   "metadata": {},
   "outputs": [
    {
     "data": {
      "text/plain": [
       "9"
      ]
     },
     "execution_count": 12,
     "metadata": {},
     "output_type": "execute_result"
    }
   ],
   "source": [
    "# Lambda function simillir to user defined function but with out any name\n",
    "\n",
    "n=lambda a,b:a+b\n",
    "n(4,5)\n"
   ]
  },
  {
   "cell_type": "markdown",
   "id": "831ea41a",
   "metadata": {},
   "source": [
    "# 5. How does the concept of \"scope\" apply to functions in Python? Explain the difference between local scope and global scope."
   ]
  },
  {
   "cell_type": "code",
   "execution_count": null,
   "id": "7b6ae5ae",
   "metadata": {},
   "outputs": [],
   "source": [
    "# There are two types of variables: global variables and local variables. The scope of global variables is the entire program \n",
    "# whereas the scope of local variable is limited to the function where it is defined."
   ]
  },
  {
   "cell_type": "code",
   "execution_count": 13,
   "id": "e1199a75",
   "metadata": {},
   "outputs": [
    {
     "name": "stdout",
     "output_type": "stream",
     "text": [
      "30\n"
     ]
    }
   ],
   "source": [
    "# local scope\n",
    "def myfun():\n",
    "    x=30\n",
    "    print(x)\n",
    "myfun()"
   ]
  },
  {
   "cell_type": "code",
   "execution_count": 14,
   "id": "fe27dcc3",
   "metadata": {},
   "outputs": [
    {
     "name": "stdout",
     "output_type": "stream",
     "text": [
      "30\n",
      "30\n"
     ]
    }
   ],
   "source": [
    "# global scope\n",
    "x=30\n",
    "def myfun():\n",
    "    print(x)\n",
    "myfun()\n",
    "print(x)"
   ]
  },
  {
   "cell_type": "markdown",
   "id": "985a17b2",
   "metadata": {},
   "source": [
    "# 6. How can you use the \"return\" statement in a Python function to return multiple values?"
   ]
  },
  {
   "cell_type": "code",
   "execution_count": null,
   "id": "0513eae8",
   "metadata": {},
   "outputs": [],
   "source": [
    "# In Python, you can return multiple values by simply separating them with commas in the return statement. \n",
    "# In Python, comma-separated values are treated as tuples, even without parentheses, unless the syntax requires them. \n",
    "# Therefore, the function in the example above returns a tuple"
   ]
  },
  {
   "cell_type": "code",
   "execution_count": 15,
   "id": "0aa81d45",
   "metadata": {},
   "outputs": [
    {
     "name": "stdout",
     "output_type": "stream",
     "text": [
      "('abc', 100)\n",
      "<class 'tuple'>\n"
     ]
    }
   ],
   "source": [
    "def test():\n",
    "    return 'abc', 100\n",
    "result = test()\n",
    "\n",
    "print(result)\n",
    "print(type(result))\n",
    "# ('abc', 100)\n",
    "# <class 'tuple'>"
   ]
  },
  {
   "cell_type": "markdown",
   "id": "8b4f8f42",
   "metadata": {},
   "source": [
    "# 7. What is the difference between the \"pass by value\" and \"pass by reference\" concepts when it comes to function arguments in Python?"
   ]
  },
  {
   "cell_type": "code",
   "execution_count": null,
   "id": "0fc13741",
   "metadata": {},
   "outputs": [],
   "source": [
    "# When you give function parameters via reference, you're just passing references to values that already exist. \n",
    "# When you pass arguments by value, on the other hand, \n",
    "# the arguments become independent copies of the original values."
   ]
  },
  {
   "cell_type": "markdown",
   "id": "16f06870",
   "metadata": {},
   "source": [
    "# 9. Create a function that takes a full name as an argument and returns first name and last name."
   ]
  },
  {
   "cell_type": "code",
   "execution_count": 10,
   "id": "f0c64dc7",
   "metadata": {},
   "outputs": [
    {
     "name": "stdout",
     "output_type": "stream",
     "text": [
      "vivek\n"
     ]
    }
   ],
   "source": [
    "def test(firstname):\n",
    "    print(firstname)\n",
    "    \n",
    "test(\"vivek\")"
   ]
  },
  {
   "cell_type": "code",
   "execution_count": null,
   "id": "0d4cb4f5",
   "metadata": {},
   "outputs": [],
   "source": []
  }
 ],
 "metadata": {
  "kernelspec": {
   "display_name": "Python 3 (ipykernel)",
   "language": "python",
   "name": "python3"
  },
  "language_info": {
   "codemirror_mode": {
    "name": "ipython",
    "version": 3
   },
   "file_extension": ".py",
   "mimetype": "text/x-python",
   "name": "python",
   "nbconvert_exporter": "python",
   "pygments_lexer": "ipython3",
   "version": "3.10.9"
  }
 },
 "nbformat": 4,
 "nbformat_minor": 5
}
