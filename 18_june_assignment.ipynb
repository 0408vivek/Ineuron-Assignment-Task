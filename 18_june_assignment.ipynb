{
 "cells": [
  {
   "cell_type": "markdown",
   "id": "5885c2be",
   "metadata": {},
   "source": [
    "# 1. What is the role of the 'else' block in a try-except statement? Provide an example scenario where it would be useful."
   ]
  },
  {
   "cell_type": "markdown",
   "id": "2c4ba413",
   "metadata": {},
   "source": [
    "**In a try-except statement, the else block is used to define a set of statements that should be executed if no exceptions are raised within the corresponding try block. In other words, if the code within the try block runs successfully without encountering any exceptions, the code within the else block will be executed. If an exception is raised in the try block, the code within the else block will be skipped.**"
   ]
  },
  {
   "cell_type": "markdown",
   "id": "2e3b4c48",
   "metadata": {},
   "source": [
    "# 2. Can a try-except block be nested inside another try-except block? Explain with an example."
   ]
  },
  {
   "cell_type": "code",
   "execution_count": null,
   "id": "76cdd360",
   "metadata": {},
   "outputs": [],
   "source": [
    "def divide(a, b):\n",
    "    try:\n",
    "        result = a / b\n",
    "    except ZeroDivisionError:\n",
    "        print(\"Error: Division by zero\")\n",
    "    except TypeError:\n",
    "        print(\"Error: Invalid types for division\")\n",
    "    else:\n",
    "        print(\"Result:\", result)\n",
    "\n",
    "def process_data(data):\n",
    "    try:\n",
    "        \n",
    "        value = data[\"key\"]\n",
    "        divide(10, value)\n",
    "    except KeyError:\n",
    "        print(\"Error: Key not found in data\")\n",
    "    except Exception as e:\n",
    "        print(\"Error:\", e)\n",
    "\n",
    "\n",
    "data_list = [{\"key\": 2}, {\"not_key\": 0}, {\"key\": \"invalid\"}]\n",
    "\n",
    "for data in data_list:\n",
    "    process_data(data)\n"
   ]
  },
  {
   "cell_type": "markdown",
   "id": "90f8dc7b",
   "metadata": {},
   "source": [
    "# 3. How can you create a custom exception class in Python? Provide an example that demonstrates its usage."
   ]
  },
  {
   "cell_type": "code",
   "execution_count": null,
   "id": "269db1c8",
   "metadata": {},
   "outputs": [],
   "source": [
    "# class CustomError(Exception):\n",
    "    def __init__(self, message):\n",
    "        self.message = message\n",
    "        super().__init__(self.message)\n",
    "\n",
    "def process_value(value):\n",
    "    if value < 0:\n",
    "        raise CustomError(\"Value cannot be negative\")\n",
    "\n",
    "try:\n",
    "    num = -5\n",
    "    process_value(num)\n",
    "except CustomError as ce:\n",
    "    print(\"Custom Error:\", ce.message)\n",
    "except Exception as e:\n",
    "    print(\"Other Error:\", e)\n"
   ]
  },
  {
   "cell_type": "markdown",
   "id": "9d967382",
   "metadata": {},
   "source": [
    "# 4. What are some common exceptions that are built-in to Python?"
   ]
  },
  {
   "cell_type": "markdown",
   "id": "e5f42c0c",
   "metadata": {},
   "source": [
    "syntexError , indentationError , valueError, typeError ,indexError ."
   ]
  },
  {
   "cell_type": "markdown",
   "id": "55e91581",
   "metadata": {},
   "source": [
    "# 5. What is logging in Python, and why is it important in software development?"
   ]
  },
  {
   "cell_type": "markdown",
   "id": "aec71ea8",
   "metadata": {},
   "source": [
    "**Logging in Python refers to the practice of recording information, events, or messages from a program during its execution. It involves creating log messages that provide insights into what the program is doing, the state it's in, and any issues or errors that might occur. The Python standard library includes a built-in module called logging that facilitates logging functionality.**"
   ]
  },
  {
   "cell_type": "markdown",
   "id": "efb4f4b9",
   "metadata": {},
   "source": [
    "# 6. Explain the purpose of log levels in Python logging and provide examples of when each log level would be appropriate."
   ]
  },
  {
   "cell_type": "markdown",
   "id": "0f22538c",
   "metadata": {},
   "source": [
    "**Log levels in Python logging are used to categorize the severity of log messages. They provide a standardized way to indicate the importance or criticality of the information being logged. The Python logging module defines several log levels, each serving a specific purpose in indicating the nature of the log message.** "
   ]
  },
  {
   "cell_type": "markdown",
   "id": "7362ba85",
   "metadata": {},
   "source": [
    "# 7. What are log formatters in Python logging, and how can you customise the log message format using formatters?"
   ]
  },
  {
   "cell_type": "markdown",
   "id": "1d267bc2",
   "metadata": {},
   "source": [
    "**Log formatters in Python logging are objects that define the structure and content of log messages. They allow you to control how log messages are formatted before being emitted to various output destinations, such as the console or log files. Formatters provide a way to customize the appearance of log entries, including timestamps, log levels, and additional contextual information.**\n",
    "\n",
    "**The logging module in Python provides a default formatter called Formatter, but you can also create your own custom formatters to suit your specific needs.**\n",
    "\n",
    "**To customize the log message format using formatters, you need to follow these steps:**"
   ]
  },
  {
   "cell_type": "markdown",
   "id": "92ef24e4",
   "metadata": {},
   "source": [
    "# 8. How can you set up logging to capture log messages from multiple modules or classes in a Python application?"
   ]
  },
  {
   "cell_type": "markdown",
   "id": "4c352c87",
   "metadata": {},
   "source": [
    "***To set up logging to capture log messages from multiple modules or classes in a Python application, you need to follow these steps:***\n",
    "\n",
    "***Configure the Root Logger: By default, the root logger captures log messages. You can configure the root logger to set the overall logging behavior and destination. This is particularly useful if you want consistent logging behavior across the entire application.***\n",
    "\n",
    "***Create Logger Instances: For each module or class that you want to log messages from, create a logger instance sing the logging.getLogger() method. This allows you to configure and capture log messages specific to that module or class.***\n",
    "\n",
    "***Set Logger Levels and Handlers: Configure each logger instance's log level and handlers. Handlers determine where log messages are sent, such as the console, files, or external services. Setting appropriate log levels ensures that only messages of sufficient severity are captured.***"
   ]
  },
  {
   "cell_type": "markdown",
   "id": "5ed76cce",
   "metadata": {},
   "source": [
    "# 9. What is the difference between the logging and print statements in Python? When should you use logging over print statements in a real-world application?"
   ]
  },
  {
   "cell_type": "markdown",
   "id": "a5bf5b58",
   "metadata": {},
   "source": [
    "**while print statements are useful for quick debugging and immediate feedback, logging offers a more structured and robust approach to capturing and managing information throughout the lifecycle of your application. It's especially important in production environments, where you need to gather insights into how your application is behaving and identify potential issues without disrupting its operation.**"
   ]
  },
  {
   "cell_type": "markdown",
   "id": "0507a405",
   "metadata": {},
   "source": [
    "# 10. Write a Python program that logs a message to a file named \"app.log\" with the\n",
    "# following requirements:\n",
    "# ● The log message should be \"Hello, World!\"\n",
    "# ● The log level should be set to \"INFO.\"\n",
    "# ● The log file should append new log entries without overwriting previous ones."
   ]
  },
  {
   "cell_type": "code",
   "execution_count": null,
   "id": "5832a81a",
   "metadata": {},
   "outputs": [],
   "source": [
    "import logging\n",
    "\n",
    "\n",
    "logging.basicConfig(\n",
    "    filename='app.log',\n",
    "    level=logging.INFO,\n",
    "    format='%(asctime)s - %(levelname)s - %(message)s',\n",
    ")\n",
    "\n",
    "\n",
    "logging.info('Hello, World!')\n"
   ]
  }
 ],
 "metadata": {
  "kernelspec": {
   "display_name": "Python 3 (ipykernel)",
   "language": "python",
   "name": "python3"
  },
  "language_info": {
   "codemirror_mode": {
    "name": "ipython",
    "version": 3
   },
   "file_extension": ".py",
   "mimetype": "text/x-python",
   "name": "python",
   "nbconvert_exporter": "python",
   "pygments_lexer": "ipython3",
   "version": "3.10.9"
  }
 },
 "nbformat": 4,
 "nbformat_minor": 5
}
